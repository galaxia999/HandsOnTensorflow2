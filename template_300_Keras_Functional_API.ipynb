{
 "cells": [
  {
   "cell_type": "markdown",
   "metadata": {
    "id": "AI1qxHWjTSXz"
   },
   "source": [
    "# Keras Function API\n",
    "\n",
    "- Functional API 로 구성 가능한 다양한 Neural Network Models"
   ]
  },
  {
   "cell_type": "markdown",
   "metadata": {
    "id": "zSLl2Xy_TSX1"
   },
   "source": [
    "conda install pydot   \n",
    "conda install graphviz"
   ]
  },
  {
   "cell_type": "markdown",
   "metadata": {
    "id": "uDySB_CdTSX1"
   },
   "source": [
    "# A. Standard Neural Network Models\n",
    "\n",
    "## 1. Simple Multi-layer Perceptron\n",
    "입력층 + 은닉층 + 출력층으로 구성된 Neural Network"
   ]
  },
  {
   "cell_type": "markdown",
   "metadata": {
    "id": "Rt8x2bMMTSX3"
   },
   "source": [
    "## 2. Convolutional Neural Network"
   ]
  },
  {
   "cell_type": "markdown",
   "metadata": {
    "id": "7krEAFSjTSX4"
   },
   "source": [
    "## 3. Recurrent Neural Network"
   ]
  },
  {
   "cell_type": "markdown",
   "metadata": {
    "id": "z7-sFpJfTSX4"
   },
   "source": [
    "# B. Shared Layers Models\n",
    "\n",
    "-한 layer 의 output 을 여러 layer 가 share하는 모델\n",
    "\n",
    "- 하나의 image input 을 interpret 하는 kernel size 가 다른 여러개의 convolutional layer 구성\n",
    "\n",
    "다음은 이 구조가 사용될 수 있는 몇 가지 실제 사례입니다:\n",
    "\n",
    "- 의료 영상 분석: 의료 영상(예: MRI, X-Ray 등)에서 병변을 탐지하는 데 사용될 수 있습니다. 예를 들어, 암 진단, 뇌졸중 진단 등에서 사용될 수 있습니다.\n",
    "\n",
    "- 자율 주행 자동차: 자율 주행 자동차는 다양한 카메라와 센서를 통해 주변 환경을 인식하고, 이를 기반으로 결정을 내립니다. 본 모델은 주행 환경의 다양한 측면을 동시에 고려하여 주행에 필요한 결정을 돕습니다.\n",
    "\n",
    "- 보안 카메라 이미지 분석: 보안 시스템에서는 카메라를 통해 수집한 이미지를 분석하여 의심스러운 활동을 감지합니다. 이 모델은 다양한 크기의 커널을 사용하여 이미지의 다양한 피처를 캡처하고, 이를 분석하여 이상 행동을 감지할 수 있습니다.\n",
    "\n"
   ]
  },
  {
   "cell_type": "markdown",
   "metadata": {
    "id": "JCOFMMjCTSX5"
   },
   "source": [
    "## 2. Shared Feature Extraction Layer\n",
    "\n",
    "- sequence classificaion 의 feature extractor 인 LSTM 의 output 을 interpret 하는 두개의 병렬 submodels  \n",
    "\n",
    "이러한 유형의 모델은 다음과 같은 다양한 상황에서 사용될 수 있습니다:\n",
    "\n",
    "- 금융 시장 예측: 시계열 데이터를 다루는 가장 대표적인 사례 중 하나는 주식 가격, 환율, 투자 포트폴리오 등의 금융 시장 예측입니다. 본 모델은 다양한 피처를 동시에 고려하여 최종 예측을 생성하므로 금융 시장의 복잡성을 모델링하는데 유용할 수 있습니다.\n",
    "\n",
    "- 자연어 처리 (NLP): 본 모델은 문장 또는 문서의 연속성을 다루는 NLP 작업에 적용될 수 있습니다. 예를 들어, 감정 분석, 텍스트 생성, 기계 번역 등의 작업에서 본 모델을 활용할 수 있습니다. 여기서 두 개의 해석기는 각각 문장의 다른 측면을 캡처하며, 이들을 병합하여 더 정확한 결과를 생성할 수 있습니다.\n",
    "\n",
    "- 센서 데이터 처리: IoT (Internet of Things) 장치에서 수집한 시계열 센서 데이터를 처리하는데 이 모델을 사용할 수 있습니다. 본 모델은 센서 데이터의 패턴을 파악하고, 예를 들어 이상 징후를 감지하거나 미래의 센서 값들을 예측하는 데 사용될 수 있습니다."
   ]
  },
  {
   "cell_type": "markdown",
   "metadata": {
    "id": "I8mGSxYoTSX5"
   },
   "source": [
    "# C. Multiple Input and Output Models\n",
    "\n",
    "## 1. Multiple Input Model\n",
    "\n",
    "- 다른 크기의 두가지 version 의 image 를 input 으로 받아서 image 분류를 하는 model (64x64 흑백, 32x32 컬러)\n",
    "- 각 이미지에 대해 서로 다른 CNN model 이 feature extraction 을 하고, 두 module 의 결과가 concatenate 됩니다.\n",
    "\n",
    "이러한 형태의 모델은 아래와 같은 상황에서 사용될 수 있습니다:\n",
    "\n",
    "- 멀티-모달 이미지 분석: 예를 들어, 의료 이미징에서는 MRI 스캔과 CT 스캔 같은 다른 형식의 이미지 데이터를 함께 분석하는 경우가 있습니다. 각 이미지 형식은 별도의 CNN 레이어를 통해 처리되며, 레이어의 출력은 결합하여 최종 진단을 위해 사용될 수 있습니다.\n",
    "\n",
    "- 멀티-센서 데이터 처리: 다른 유형의 센서 (예: 영상 센서와 오디오 센서)로부터 얻은 데이터를 결합하여 더 복잡한 작업을 수행하는 경우입니다. 예를 들어, 영상 데이터와 오디오 데이터를 동시에 분석하여 비디오 클립의 내용을 파악하는 데 이 모델이 사용될 수 있습니다.\n",
    "\n",
    "- 멀티-비전 태스크: 예를 들어, 멀티-스케일 이미지 인식에서는 이러한 유형의 모델이 사용될 수 있습니다. 이런 경우에는 한 입력이 원본 이미지를 받고, 다른 입력은 이미지의 다운-스케일 버전을 받을 수 있습니다. 이러한 정보를 결합하면 객체를 다양한 크기로 인식하는 데 도움이 될 수 있습니다."
   ]
  },
  {
   "cell_type": "markdown",
   "metadata": {
    "id": "FbtAzbU7TSX6"
   },
   "source": [
    "## 2. Multiple Output Model\n",
    "\n",
    "- 2개의 서로 다른 type 의 prediction 을 출력하는 model  \n",
    "- 100 timestep 1 feature 의 경우 가정  \n",
    "- 이 model 은 sequence 를 분류하면서 동시에 같은 길이의 새로운 sequence 를 출력한다.  \n",
    "- LSTM layer 가 input sequence 를 interpret 하고 각 timestep 별로 hidden state 반환  \n",
    "- 첫번째 output model 은 stacked LSTM 으로 feature 를 interpret 하고 binary prediction 수행  \n",
    "- 두번째 output model 은 같은 output layer 를 이용하여 각 timestep 에 대해 real value prediction\n",
    "\n",
    "이러한 형태의 모델은 다음과 같은 상황에서 사용될 수 있습니다:\n",
    "\n",
    "- 다중 작업 학습 (Multi-task learning): 예를 들어, 의료 분야에서 환자의 의료 기록 데이터를 분석하는 경우입니다. 전체 시퀀스에 대한 분류 출력은 환자가 특정 질병을 앓고 있는지를 예측할 수 있으며 (예: 암 여부), 시퀀스 출력은 각 시간 단계에서의 환자 상태 (예: 심박수, 혈압 등)를 예측할 수 있습니다.\n",
    "\n",
    "- 동시적 시퀀스 분류 및 예측: 이는 예를 들어 금융 시장에서 주가 데이터를 분석하는 경우에 사용될 수 있습니다. 분류 출력은 주식의 전반적인 추세 (예: 상승 또는 하락)를 예측하는 데 사용될 수 있으며, 시퀀스 출력은 각 시간 단계에서의 주식 가격을 예측하는 데 사용될 수 있습니다.\n",
    "\n",
    "- 자연어 처리: 이 구조는 문장이나 문서에서 감정을 분석하면서 동시에 각 단어나 구절에 대한 정보를 추출하는 작업에도 사용될 수 있습니다."
   ]
  }
 ],
 "metadata": {
  "colab": {
   "provenance": []
  },
  "kernelspec": {
   "display_name": "Python 3 (ipykernel)",
   "language": "python",
   "name": "python3"
  },
  "language_info": {
   "codemirror_mode": {
    "name": "ipython",
    "version": 3
   },
   "file_extension": ".py",
   "mimetype": "text/x-python",
   "name": "python",
   "nbconvert_exporter": "python",
   "pygments_lexer": "ipython3",
   "version": "3.9.16"
  }
 },
 "nbformat": 4,
 "nbformat_minor": 0
}
