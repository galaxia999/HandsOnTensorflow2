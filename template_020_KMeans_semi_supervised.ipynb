{
 "cells": [
  {
   "cell_type": "markdown",
   "id": "e18d0bd8",
   "metadata": {},
   "source": [
    "# 군집을 사용한 준지도 학습 구현"
   ]
  },
  {
   "cell_type": "markdown",
   "id": "c826ce2d",
   "metadata": {},
   "source": [
    "- data는 0-9가 순차적으로 반복되는 순서로 섞여 있음"
   ]
  },
  {
   "cell_type": "markdown",
   "id": "c16ebd82",
   "metadata": {},
   "source": [
    "### data 시각화"
   ]
  },
  {
   "cell_type": "markdown",
   "id": "79cda64c",
   "metadata": {},
   "source": [
    "### step 1. 비지도 학습을 이용한 군집화\n",
    "\n",
    "우선 군집 알고리즘을 사용해 전체 데이터를 여러 클러스터로 나눕니다.   \n",
    "\n",
    "### step 2. 클러스터내의 가장 많은 레이블을 클러스터의 모든 샘플의 레이블로 적용\n",
    "그런 다음, 각 클러스터 내에서 레이블이 알려진 샘플의 레이블을 해당 클러스터에 속한 모든 샘플에 할당합니다. 이렇게 하면, 레이블이 없는 샘플들도 레이블을 가지게 되며, 이 정보를 이용해 분류 모델을 학습할 수 있습니다."
   ]
  },
  {
   "cell_type": "markdown",
   "id": "b0deeb63",
   "metadata": {},
   "source": [
    "군집화에 의해 할당한 label과 원래의 label 간의 정확도 비교"
   ]
  },
  {
   "cell_type": "markdown",
   "id": "0cf2482a",
   "metadata": {},
   "source": [
    "## 비지도 학습을 통해 얻은 결과 label로 훈련한 모델과 원래의 target label 비교"
   ]
  },
  {
   "cell_type": "markdown",
   "id": "3e1801f1",
   "metadata": {},
   "source": [
    "### 준지도 학습 model"
   ]
  },
  {
   "cell_type": "markdown",
   "id": "cbb346d3",
   "metadata": {},
   "source": [
    "### 지도학습 label 로 model 훈련"
   ]
  },
  {
   "cell_type": "markdown",
   "id": "215ce86b",
   "metadata": {},
   "source": [
    "### 지도학습 모델과 준지도 학습 모델의 accuracy 비교"
   ]
  }
 ],
 "metadata": {
  "kernelspec": {
   "display_name": "Python 3 (ipykernel)",
   "language": "python",
   "name": "python3"
  },
  "language_info": {
   "codemirror_mode": {
    "name": "ipython",
    "version": 3
   },
   "file_extension": ".py",
   "mimetype": "text/x-python",
   "name": "python",
   "nbconvert_exporter": "python",
   "pygments_lexer": "ipython3",
   "version": "3.9.7"
  }
 },
 "nbformat": 4,
 "nbformat_minor": 5
}
