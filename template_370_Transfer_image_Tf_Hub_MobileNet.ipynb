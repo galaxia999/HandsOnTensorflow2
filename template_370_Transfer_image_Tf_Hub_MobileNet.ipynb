{
 "cells": [
  {
   "cell_type": "markdown",
   "metadata": {
    "id": "JnKRe0p9h35K"
   },
   "source": [
    "# TensorFlow Hub 를 이용한 Transfer Learning\n",
    "\n",
    "- Pre-trained Moblenet 사용"
   ]
  },
  {
   "cell_type": "markdown",
   "metadata": {
    "id": "Bh5YVgd3NJkz"
   },
   "source": [
    "## Flower Data download"
   ]
  },
  {
   "cell_type": "markdown",
   "metadata": {
    "id": "4L9_XqJGxgzZ"
   },
   "source": [
    "- ImageDataGenerator 생성   \n",
    "TensorFlow의 ImageDataGenerator 클래스를 사용하여 디렉토리에서 이미지를 로드하고, 이미지에 대한 전처리(여기서는 MobileNet의 전처리 함수를 사용)를 수행하고, 지정된 배치 크기로 이미지 데이터를 반환하는 데이터 제너레이터를 생성합니다."
   ]
  },
  {
   "cell_type": "markdown",
   "metadata": {
    "id": "VfS1K4nopQGL"
   },
   "source": [
    "- flower data 는 5 개의 class 로 구성"
   ]
  },
  {
   "cell_type": "markdown",
   "metadata": {
    "id": "FNJ0TcWOut5G"
   },
   "source": [
    "- 클래스의 이미지 수"
   ]
  },
  {
   "cell_type": "markdown",
   "metadata": {
    "id": "Rd81CxsMx5D1"
   },
   "source": [
    "class name 표시를 위해 class_names dictionary 생성"
   ]
  },
  {
   "cell_type": "markdown",
   "metadata": {
    "id": "PGtPtiQLphXC"
   },
   "source": [
    "- 위에서 읽은 `input_batch` 중 10 개 image 시각화  \n",
    "-  전처리된 image 를 reverse transform 하여 시각화"
   ]
  },
  {
   "cell_type": "markdown",
   "metadata": {
    "id": "wWmHRkEkz1XM"
   },
   "source": [
    "(-1.0, 1.0) 범위의 pixel 값을 (0, 255) 범위로 바꾸어 주기 위해 1 을 더해주고 127.5를 곱해준다."
   ]
  },
  {
   "cell_type": "markdown",
   "metadata": {
    "id": "H38yzWMAn7hu"
   },
   "source": [
    "## 전이학습 MODEL 을 특성 추출기로 사용하기 위해 head 가 제거된 model 을 download  \n",
    "\n",
    "- [Tensorflow Hub](https://tfhub.dev/s?module-type=image-feature-vector&q=tf2)\n",
    "\n",
    "- `tf2-preview/mobilenet_v2/feature_vector/2`는 MobileNet V2의 feature vector를 가리킵니다. 이 feature vector는 MobileNet V2 모델의 마지막 분류 레이어를 제외한 부분을 나타내며, 이를 사용해 새로운 모델을 만들 때 전이 학습(Transfer Learning)을 쉽게 수행할 수 있습니다."
   ]
  },
  {
   "cell_type": "markdown",
   "metadata": {
    "id": "SaoQU-KZ_S2X"
   },
   "source": [
    "- MobileNet 의 pre-trained weight 는 update 않음  \n",
    "\n",
    "- Top layer 에 Dense layer 추가"
   ]
  },
  {
   "cell_type": "markdown",
   "metadata": {
    "id": "BnYB7Cqs0uv0"
   },
   "source": [
    "두 조각으로 모델 만들기  \n",
    "(1) MobileNet 특징 추출기  \n",
    "(2) 마지막에 Dense Network(classifier) ​​추가"
   ]
  },
  {
   "cell_type": "markdown",
   "metadata": {
    "id": "MxI0-oqa_sEB"
   },
   "source": [
    "- output shape 이 정확한지 training 전에 사전 check"
   ]
  },
  {
   "cell_type": "markdown",
   "metadata": {
    "id": "0wR3uKW8g5po"
   },
   "source": [
    "## Flower 분류 전문으로 Fine Tuning 된 MODEL 평가"
   ]
  }
 ],
 "metadata": {
  "accelerator": "GPU",
  "colab": {
   "machine_shape": "hm",
   "provenance": []
  },
  "kernelspec": {
   "display_name": "Python 3",
   "language": "python",
   "name": "python3"
  },
  "language_info": {
   "codemirror_mode": {
    "name": "ipython",
    "version": 3
   },
   "file_extension": ".py",
   "mimetype": "text/x-python",
   "name": "python",
   "nbconvert_exporter": "python",
   "pygments_lexer": "ipython3",
   "version": "3.9.7"
  }
 },
 "nbformat": 4,
 "nbformat_minor": 0
}
