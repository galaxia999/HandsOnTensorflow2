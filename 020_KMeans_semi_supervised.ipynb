{
 "cells": [
  {
   "cell_type": "markdown",
   "id": "e18d0bd8",
   "metadata": {},
   "source": [
    "# 군집을 사용한 준지도 학습 구현"
   ]
  },
  {
   "cell_type": "code",
   "execution_count": 1,
   "id": "dec683a2",
   "metadata": {},
   "outputs": [
    {
     "data": {
      "text/plain": [
       "{'data': array([[ 0.,  0.,  5., ...,  0.,  0.,  0.],\n",
       "        [ 0.,  0.,  0., ..., 10.,  0.,  0.],\n",
       "        [ 0.,  0.,  0., ..., 16.,  9.,  0.],\n",
       "        ...,\n",
       "        [ 0.,  0.,  1., ...,  6.,  0.,  0.],\n",
       "        [ 0.,  0.,  2., ..., 12.,  0.,  0.],\n",
       "        [ 0.,  0., 10., ..., 12.,  1.,  0.]]),\n",
       " 'target': array([0, 1, 2, ..., 8, 9, 8]),\n",
       " 'frame': None,\n",
       " 'feature_names': ['pixel_0_0',\n",
       "  'pixel_0_1',\n",
       "  'pixel_0_2',\n",
       "  'pixel_0_3',\n",
       "  'pixel_0_4',\n",
       "  'pixel_0_5',\n",
       "  'pixel_0_6',\n",
       "  'pixel_0_7',\n",
       "  'pixel_1_0',\n",
       "  'pixel_1_1',\n",
       "  'pixel_1_2',\n",
       "  'pixel_1_3',\n",
       "  'pixel_1_4',\n",
       "  'pixel_1_5',\n",
       "  'pixel_1_6',\n",
       "  'pixel_1_7',\n",
       "  'pixel_2_0',\n",
       "  'pixel_2_1',\n",
       "  'pixel_2_2',\n",
       "  'pixel_2_3',\n",
       "  'pixel_2_4',\n",
       "  'pixel_2_5',\n",
       "  'pixel_2_6',\n",
       "  'pixel_2_7',\n",
       "  'pixel_3_0',\n",
       "  'pixel_3_1',\n",
       "  'pixel_3_2',\n",
       "  'pixel_3_3',\n",
       "  'pixel_3_4',\n",
       "  'pixel_3_5',\n",
       "  'pixel_3_6',\n",
       "  'pixel_3_7',\n",
       "  'pixel_4_0',\n",
       "  'pixel_4_1',\n",
       "  'pixel_4_2',\n",
       "  'pixel_4_3',\n",
       "  'pixel_4_4',\n",
       "  'pixel_4_5',\n",
       "  'pixel_4_6',\n",
       "  'pixel_4_7',\n",
       "  'pixel_5_0',\n",
       "  'pixel_5_1',\n",
       "  'pixel_5_2',\n",
       "  'pixel_5_3',\n",
       "  'pixel_5_4',\n",
       "  'pixel_5_5',\n",
       "  'pixel_5_6',\n",
       "  'pixel_5_7',\n",
       "  'pixel_6_0',\n",
       "  'pixel_6_1',\n",
       "  'pixel_6_2',\n",
       "  'pixel_6_3',\n",
       "  'pixel_6_4',\n",
       "  'pixel_6_5',\n",
       "  'pixel_6_6',\n",
       "  'pixel_6_7',\n",
       "  'pixel_7_0',\n",
       "  'pixel_7_1',\n",
       "  'pixel_7_2',\n",
       "  'pixel_7_3',\n",
       "  'pixel_7_4',\n",
       "  'pixel_7_5',\n",
       "  'pixel_7_6',\n",
       "  'pixel_7_7'],\n",
       " 'target_names': array([0, 1, 2, 3, 4, 5, 6, 7, 8, 9]),\n",
       " 'images': array([[[ 0.,  0.,  5., ...,  1.,  0.,  0.],\n",
       "         [ 0.,  0., 13., ..., 15.,  5.,  0.],\n",
       "         [ 0.,  3., 15., ..., 11.,  8.,  0.],\n",
       "         ...,\n",
       "         [ 0.,  4., 11., ..., 12.,  7.,  0.],\n",
       "         [ 0.,  2., 14., ..., 12.,  0.,  0.],\n",
       "         [ 0.,  0.,  6., ...,  0.,  0.,  0.]],\n",
       " \n",
       "        [[ 0.,  0.,  0., ...,  5.,  0.,  0.],\n",
       "         [ 0.,  0.,  0., ...,  9.,  0.,  0.],\n",
       "         [ 0.,  0.,  3., ...,  6.,  0.,  0.],\n",
       "         ...,\n",
       "         [ 0.,  0.,  1., ...,  6.,  0.,  0.],\n",
       "         [ 0.,  0.,  1., ...,  6.,  0.,  0.],\n",
       "         [ 0.,  0.,  0., ..., 10.,  0.,  0.]],\n",
       " \n",
       "        [[ 0.,  0.,  0., ..., 12.,  0.,  0.],\n",
       "         [ 0.,  0.,  3., ..., 14.,  0.,  0.],\n",
       "         [ 0.,  0.,  8., ..., 16.,  0.,  0.],\n",
       "         ...,\n",
       "         [ 0.,  9., 16., ...,  0.,  0.,  0.],\n",
       "         [ 0.,  3., 13., ..., 11.,  5.,  0.],\n",
       "         [ 0.,  0.,  0., ..., 16.,  9.,  0.]],\n",
       " \n",
       "        ...,\n",
       " \n",
       "        [[ 0.,  0.,  1., ...,  1.,  0.,  0.],\n",
       "         [ 0.,  0., 13., ...,  2.,  1.,  0.],\n",
       "         [ 0.,  0., 16., ..., 16.,  5.,  0.],\n",
       "         ...,\n",
       "         [ 0.,  0., 16., ..., 15.,  0.,  0.],\n",
       "         [ 0.,  0., 15., ..., 16.,  0.,  0.],\n",
       "         [ 0.,  0.,  2., ...,  6.,  0.,  0.]],\n",
       " \n",
       "        [[ 0.,  0.,  2., ...,  0.,  0.,  0.],\n",
       "         [ 0.,  0., 14., ..., 15.,  1.,  0.],\n",
       "         [ 0.,  4., 16., ..., 16.,  7.,  0.],\n",
       "         ...,\n",
       "         [ 0.,  0.,  0., ..., 16.,  2.,  0.],\n",
       "         [ 0.,  0.,  4., ..., 16.,  2.,  0.],\n",
       "         [ 0.,  0.,  5., ..., 12.,  0.,  0.]],\n",
       " \n",
       "        [[ 0.,  0., 10., ...,  1.,  0.,  0.],\n",
       "         [ 0.,  2., 16., ...,  1.,  0.,  0.],\n",
       "         [ 0.,  0., 15., ..., 15.,  0.,  0.],\n",
       "         ...,\n",
       "         [ 0.,  4., 16., ..., 16.,  6.,  0.],\n",
       "         [ 0.,  8., 16., ..., 16.,  8.,  0.],\n",
       "         [ 0.,  1.,  8., ..., 12.,  1.,  0.]]]),\n",
       " 'DESCR': \".. _digits_dataset:\\n\\nOptical recognition of handwritten digits dataset\\n--------------------------------------------------\\n\\n**Data Set Characteristics:**\\n\\n    :Number of Instances: 1797\\n    :Number of Attributes: 64\\n    :Attribute Information: 8x8 image of integer pixels in the range 0..16.\\n    :Missing Attribute Values: None\\n    :Creator: E. Alpaydin (alpaydin '@' boun.edu.tr)\\n    :Date: July; 1998\\n\\nThis is a copy of the test set of the UCI ML hand-written digits datasets\\nhttps://archive.ics.uci.edu/ml/datasets/Optical+Recognition+of+Handwritten+Digits\\n\\nThe data set contains images of hand-written digits: 10 classes where\\neach class refers to a digit.\\n\\nPreprocessing programs made available by NIST were used to extract\\nnormalized bitmaps of handwritten digits from a preprinted form. From a\\ntotal of 43 people, 30 contributed to the training set and different 13\\nto the test set. 32x32 bitmaps are divided into nonoverlapping blocks of\\n4x4 and the number of on pixels are counted in each block. This generates\\nan input matrix of 8x8 where each element is an integer in the range\\n0..16. This reduces dimensionality and gives invariance to small\\ndistortions.\\n\\nFor info on NIST preprocessing routines, see M. D. Garris, J. L. Blue, G.\\nT. Candela, D. L. Dimmick, J. Geist, P. J. Grother, S. A. Janet, and C.\\nL. Wilson, NIST Form-Based Handprint Recognition System, NISTIR 5469,\\n1994.\\n\\n.. topic:: References\\n\\n  - C. Kaynak (1995) Methods of Combining Multiple Classifiers and Their\\n    Applications to Handwritten Digit Recognition, MSc Thesis, Institute of\\n    Graduate Studies in Science and Engineering, Bogazici University.\\n  - E. Alpaydin, C. Kaynak (1998) Cascading Classifiers, Kybernetika.\\n  - Ken Tang and Ponnuthurai N. Suganthan and Xi Yao and A. Kai Qin.\\n    Linear dimensionalityreduction using relevance weighted LDA. School of\\n    Electrical and Electronic Engineering Nanyang Technological University.\\n    2005.\\n  - Claudio Gentile. A New Approximate Maximal Margin Classification\\n    Algorithm. NIPS. 2000.\\n\"}"
      ]
     },
     "execution_count": 1,
     "metadata": {},
     "output_type": "execute_result"
    }
   ],
   "source": [
    "from sklearn import datasets\n",
    "from sklearn.cluster import KMeans\n",
    "from sklearn.ensemble import RandomForestClassifier\n",
    "from sklearn.model_selection import train_test_split\n",
    "from sklearn.metrics import accuracy_score, confusion_matrix\n",
    "import numpy as np\n",
    "import matplotlib.pyplot as plt\n",
    "\n",
    "# 숫자 데이터 로드\n",
    "digits = datasets.load_digits()\n",
    "digits"
   ]
  },
  {
   "cell_type": "code",
   "execution_count": 2,
   "id": "c3d95ed6",
   "metadata": {},
   "outputs": [
    {
     "data": {
      "text/plain": [
       "((1797, 64), (1797,))"
      ]
     },
     "execution_count": 2,
     "metadata": {},
     "output_type": "execute_result"
    }
   ],
   "source": [
    "digits.data.shape, digits.target.shape"
   ]
  },
  {
   "cell_type": "markdown",
   "id": "c826ce2d",
   "metadata": {},
   "source": [
    "- data는 0-9가 순차적으로 반복되는 순서로 섞여 있음"
   ]
  },
  {
   "cell_type": "code",
   "execution_count": 3,
   "id": "a63b5177",
   "metadata": {},
   "outputs": [
    {
     "name": "stdout",
     "output_type": "stream",
     "text": [
      "012345678901234567890123456789095565098984177351002278201263373346664915095282001763217463139176843140536961754472822579548849089801234567890123456789012345678909556509898417735100227820126337334666491509528200176321731391768431405369617544728225548849089801234567890123456789012345678909556509898417735100227820126337334666491509528200176321746313917684314053696175447282257954884908930123456789012345678901234567890955650989841773510022782012633733466649150952820017632174631391768431405369617544728225795488490898012345678901234567890123456789095565098984177351002278201263373346664915095282001763217463139176843140536961754472822579548849089801234567890123456789012345678909556509898417735100227820126337334666491509528200176321746313917684314053696175447282257954884908980123456789012345678901234567890955650989841773510022782012633733466649150952820017632174631391768431405369617544728225795488490898123456789012345678901234567890955650989841773512782012633733466649150952820017632146313917684314053696175447282257954490898012345678901234567890123456789095565098984177351007820126337334666491509528200176321746313917684314053696175447282257954884908980123456789012345678901234567890955650989841773510022782012633733466649150952820017632174631391768431405369617544728225795488490898012345678901234567890123456789095565098984177351002278201263373346664915095282001763217463139176843140536961754472822579548849080123456789012345678901234567890955650989841773510022782012633733466649150952820017632174631391768431405369617544728225795488490898012345678901234569012345678909556509898417735100227820126337334666491509528017632174631391768431405369617544722579544908980123456789012345678901234567890955650989841773510022782012633733466649150952820017632174631391768431405369617544728225795488490898"
     ]
    }
   ],
   "source": [
    "for i in digits.target:\n",
    "    print(i, end='')"
   ]
  },
  {
   "cell_type": "markdown",
   "id": "c16ebd82",
   "metadata": {},
   "source": [
    "### data 시각화"
   ]
  },
  {
   "cell_type": "code",
   "execution_count": 4,
   "id": "e872ddf6",
   "metadata": {},
   "outputs": [
    {
     "data": {
      "text/plain": [
       "Text(0.5, 1.0, 'class = 0')"
      ]
     },
     "execution_count": 4,
     "metadata": {},
     "output_type": "execute_result"
    },
    {
     "data": {
      "image/png": "[encoded data removed]",
      "text/plain": [
       "<Figure size 300x300 with 1 Axes>"
      ]
     },
     "metadata": {},
     "output_type": "display_data"
    }
   ],
   "source": [
    "plt.figure(figsize=(3, 3))\n",
    "plt.imshow(digits.data[0].reshape(8, 8))\n",
    "plt.title(f\"class = {digits.target[0]}\")"
   ]
  },
  {
   "cell_type": "markdown",
   "id": "79cda64c",
   "metadata": {},
   "source": [
    "### step 1. 비지도 학습을 이용한 군집화\n",
    "\n",
    "우선 군집 알고리즘을 사용해 전체 데이터를 여러 클러스터로 나눕니다.   \n",
    "\n",
    "### step 2. 클러스터내의 가장 많은 레이블을 클러스터의 모든 샘플의 레이블로 적용\n",
    "그런 다음, 각 클러스터 내에서 레이블이 알려진 샘플의 레이블을 해당 클러스터에 속한 모든 샘플에 할당합니다. 이렇게 하면, 레이블이 없는 샘플들도 레이블을 가지게 되며, 이 정보를 이용해 분류 모델을 학습할 수 있습니다."
   ]
  },
  {
   "cell_type": "code",
   "execution_count": 5,
   "id": "77b2f7a7",
   "metadata": {},
   "outputs": [
    {
     "name": "stdout",
     "output_type": "stream",
     "text": [
      "(1797,)\n",
      "(array([0, 1, 2, 3, 4, 5, 6, 7, 8, 9]), array([179, 244, 175,  98, 182, 223, 169, 148, 198, 181], dtype=int64))\n"
     ]
    }
   ],
   "source": [
    "# KMeans를 이용해 전체 데이터를 10개의 클러스터로 분할\n",
    "kmeans = KMeans(n_clusters=10, random_state=42)\n",
    "kmeans.fit(digits.data)\n",
    "\n",
    "#각 data point가 어느 cluster에 속하는지 분류\n",
    "clusters = kmeans.predict(digits.data)\n",
    "\n",
    "print(clusters.shape)\n",
    "\n",
    "print(np.unique(clusters, return_counts=True))"
   ]
  },
  {
   "cell_type": "code",
   "execution_count": 6,
   "id": "607aad9c",
   "metadata": {},
   "outputs": [
    {
     "name": "stdout",
     "output_type": "stream",
     "text": [
      "[ 0  1  2 ... -1 -1 -1]\n",
      "(array([-1,  0,  1,  2,  3,  4,  5,  6,  7,  8,  9]), array([1747,    7,    5,    3,    4,    4,    7,    4,    5,    5,    6],\n",
      "      dtype=int64))\n"
     ]
    }
   ],
   "source": [
    "# 레이블 지정: 처음 50개의 샘플만 레이블이 알려져 있다고 가정\n",
    "# 나머지 데이터는 레이블이 없다고 가정(-1)\n",
    "known_labels = np.full(digits.target.shape, -1)\n",
    "known_labels[:50] = digits.target[:50]\n",
    "print(known_labels)\n",
    "print(np.unique(known_labels, return_counts=True))"
   ]
  },
  {
   "cell_type": "code",
   "execution_count": 7,
   "id": "67788a0e",
   "metadata": {},
   "outputs": [
    {
     "data": {
      "text/plain": [
       "array([ 5,  8,  9,  9,  9,  9,  9,  9, -1, -1, -1, -1, -1, -1, -1, -1, -1,\n",
       "       -1, -1, -1, -1, -1, -1, -1, -1, -1, -1, -1, -1, -1, -1, -1, -1, -1,\n",
       "       -1, -1, -1, -1, -1, -1, -1, -1, -1, -1, -1, -1, -1, -1, -1, -1, -1,\n",
       "       -1, -1, -1, -1, -1, -1, -1, -1, -1, -1, -1, -1, -1, -1, -1, -1, -1,\n",
       "       -1, -1, -1, -1, -1, -1, -1, -1, -1, -1, -1, -1, -1, -1, -1, -1, -1,\n",
       "       -1, -1, -1, -1, -1, -1, -1, -1, -1, -1, -1, -1, -1, -1, -1, -1, -1,\n",
       "       -1, -1, -1, -1, -1, -1, -1, -1, -1, -1, -1, -1, -1, -1, -1, -1, -1,\n",
       "       -1, -1, -1, -1, -1, -1, -1, -1, -1, -1, -1, -1, -1, -1, -1, -1, -1,\n",
       "       -1, -1, -1, -1, -1, -1, -1, -1, -1, -1, -1, -1, -1, -1, -1, -1, -1,\n",
       "       -1, -1, -1, -1, -1, -1, -1, -1, -1, -1, -1, -1, -1, -1, -1, -1, -1,\n",
       "       -1, -1, -1, -1, -1, -1, -1, -1, -1, -1, -1, -1, -1, -1, -1, -1, -1,\n",
       "       -1, -1, -1, -1, -1, -1, -1, -1, -1, -1, -1, -1, -1, -1, -1, -1, -1,\n",
       "       -1, -1, -1, -1, -1, -1, -1, -1, -1, -1, -1, -1, -1, -1, -1, -1, -1,\n",
       "       -1, -1, -1, -1, -1, -1, -1, -1, -1, -1, -1, -1, -1, -1, -1, -1, -1,\n",
       "       -1, -1, -1, -1, -1, -1])"
      ]
     },
     "execution_count": 7,
     "metadata": {},
     "output_type": "execute_result"
    }
   ],
   "source": [
    "# cluster i 에 속한 datapoint 들의 label 추출\n",
    "i = 1\n",
    "labels_in_cluster = known_labels[clusters == i]\n",
    "labels_in_cluster"
   ]
  },
  {
   "cell_type": "code",
   "execution_count": 8,
   "id": "49e7da7f",
   "metadata": {},
   "outputs": [
    {
     "data": {
      "text/plain": [
       "(array([5, 8, 9]), array([1, 1, 6], dtype=int64))"
      ]
     },
     "execution_count": 8,
     "metadata": {},
     "output_type": "execute_result"
    }
   ],
   "source": [
    "# np.unique 함수를 사용하여, labels_in_cluster 에서 레이블이 알려진(-1이 아닌) 샘플들의 레이블 등장 횟수를 계산합니다.\n",
    "label, count = np.unique(labels_in_cluster[labels_in_cluster != -1], return_counts=True)\n",
    "label, count"
   ]
  },
  {
   "cell_type": "code",
   "execution_count": 9,
   "id": "c90abb0c",
   "metadata": {},
   "outputs": [
    {
     "data": {
      "text/plain": [
       "2"
      ]
     },
     "execution_count": 9,
     "metadata": {},
     "output_type": "execute_result"
    }
   ],
   "source": [
    "# count 가 가장 많은 label을 cluster i 의 모든 sample 의 label로 지정합니다.\n",
    "np.argmax(count)"
   ]
  },
  {
   "cell_type": "code",
   "execution_count": 10,
   "id": "8c4e7f72",
   "metadata": {},
   "outputs": [
    {
     "data": {
      "text/plain": [
       "array([0, 9, 2, 1, 6, 8, 4, 5, 7, 3])"
      ]
     },
     "execution_count": 10,
     "metadata": {},
     "output_type": "execute_result"
    }
   ],
   "source": [
    "# 각 클러스터에 대해 가장 많은 레이블을 찾고, 이 레이블을 해당 클러스터의 레이블로 설정\n",
    "cluster_labels = np.full(10, -1)\n",
    "\n",
    "for i in range(10):  \n",
    "    # 10개의 클러스터 각각에 대해 현재 클러스터에 속한 샘플들의 레이블을 선택합니다.\n",
    "    labels_in_cluster = known_labels[clusters == i]\n",
    "    label, count = np.unique(labels_in_cluster[labels_in_cluster != -1], return_counts=True)\n",
    "\n",
    "    # 해당 클러스터 내에서 레이블이 알려진 샘플이 하나 이상 있는 경우\n",
    "    if len(label) > 0:\n",
    "        # label 배열에서 가장 일반적인 레이블을 선택합니다.\n",
    "        cluster_labels[i] = label[np.argmax(count)]\n",
    "        \n",
    "cluster_labels"
   ]
  },
  {
   "cell_type": "code",
   "execution_count": 11,
   "id": "4f547f8f",
   "metadata": {},
   "outputs": [
    {
     "name": "stdout",
     "output_type": "stream",
     "text": [
      "cluster 0의 label은 0으로 할당\n",
      "cluster 1의 label은 9으로 할당\n",
      "cluster 2의 label은 2으로 할당\n",
      "cluster 3의 label은 1으로 할당\n",
      "cluster 4의 label은 6으로 할당\n",
      "cluster 5의 label은 8으로 할당\n",
      "cluster 6의 label은 4으로 할당\n",
      "cluster 7의 label은 5으로 할당\n",
      "cluster 8의 label은 7으로 할당\n",
      "cluster 9의 label은 3으로 할당\n"
     ]
    }
   ],
   "source": [
    "for i, cl in enumerate(cluster_labels):\n",
    "    print(f\"cluster {i}의 label은 {cl}으로 할당\")"
   ]
  },
  {
   "cell_type": "code",
   "execution_count": 12,
   "id": "844a5920",
   "metadata": {},
   "outputs": [
    {
     "data": {
      "text/plain": [
       "(array([0, 1, 2, 3, 4, 5, 6, 7, 8, 9]),\n",
       " array([179,  98, 176, 181, 169, 149, 182, 199, 222, 242], dtype=int64))"
      ]
     },
     "execution_count": 12,
     "metadata": {},
     "output_type": "execute_result"
    }
   ],
   "source": [
    "# 레이블이 없는 샘플(known_labels == -1)에 대해, 해당 샘플이 속한 클러스터의 레이블을 할당\n",
    "known_labels[known_labels == -1] = cluster_labels[clusters[known_labels == -1]]\n",
    "\n",
    "np.unique(known_labels, return_counts=True)"
   ]
  },
  {
   "cell_type": "code",
   "execution_count": 13,
   "id": "482a2e28",
   "metadata": {},
   "outputs": [
    {
     "data": {
      "text/plain": [
       "(array([0, 1, 2, 3, 4, 5, 6, 7, 8, 9]),\n",
       " array([178, 182, 177, 183, 181, 182, 181, 179, 174, 180], dtype=int64))"
      ]
     },
     "execution_count": 13,
     "metadata": {},
     "output_type": "execute_result"
    }
   ],
   "source": [
    "np.unique(digits.target, return_counts=True)"
   ]
  },
  {
   "cell_type": "markdown",
   "id": "b0deeb63",
   "metadata": {},
   "source": [
    "군집화에 의해 할당한 label과 원래의 label 간의 정확도 비교"
   ]
  },
  {
   "cell_type": "code",
   "execution_count": 14,
   "id": "30aa6cd9",
   "metadata": {},
   "outputs": [
    {
     "data": {
      "text/plain": [
       "0.7929883138564274"
      ]
     },
     "execution_count": 14,
     "metadata": {},
     "output_type": "execute_result"
    }
   ],
   "source": [
    "sum(known_labels == digits.target) / len(digits.target)"
   ]
  },
  {
   "cell_type": "markdown",
   "id": "0cf2482a",
   "metadata": {},
   "source": [
    "## 비지도 학습을 통해 얻은 결과 label로 훈련한 모델과 원래의 target label 비교"
   ]
  },
  {
   "cell_type": "markdown",
   "id": "3e1801f1",
   "metadata": {},
   "source": [
    "### 준지도 학습 model"
   ]
  },
  {
   "cell_type": "code",
   "execution_count": 15,
   "id": "c2bebced",
   "metadata": {},
   "outputs": [
    {
     "data": {
      "text/plain": [
       "RandomForestClassifier(random_state=42)"
      ]
     },
     "execution_count": 15,
     "metadata": {},
     "output_type": "execute_result"
    }
   ],
   "source": [
    "clf_semi_super = RandomForestClassifier(random_state=42)\n",
    "clf_semi_super.fit(digits.data, known_labels)"
   ]
  },
  {
   "cell_type": "markdown",
   "id": "cbb346d3",
   "metadata": {},
   "source": [
    "### 지도학습 label 로 model 훈련"
   ]
  },
  {
   "cell_type": "code",
   "execution_count": 16,
   "id": "37684fd3",
   "metadata": {},
   "outputs": [
    {
     "data": {
      "text/plain": [
       "RandomForestClassifier(random_state=42)"
      ]
     },
     "execution_count": 16,
     "metadata": {},
     "output_type": "execute_result"
    }
   ],
   "source": [
    "clf_super = RandomForestClassifier(random_state=42)\n",
    "clf_super.fit(digits.data, digits.target)"
   ]
  },
  {
   "cell_type": "markdown",
   "id": "215ce86b",
   "metadata": {},
   "source": [
    "### 지도학습 모델과 준지도 학습 모델의 accuracy 비교"
   ]
  },
  {
   "cell_type": "code",
   "execution_count": 17,
   "id": "ed5d0c86",
   "metadata": {},
   "outputs": [],
   "source": [
    "y_pred_semi_super = clf_semi_super.predict(digits.data)\n",
    "y_pred_super = clf_super.predict(digits.data)"
   ]
  },
  {
   "cell_type": "code",
   "execution_count": 18,
   "id": "7c75694f",
   "metadata": {},
   "outputs": [
    {
     "data": {
      "text/plain": [
       "0.7929883138564274"
      ]
     },
     "execution_count": 18,
     "metadata": {},
     "output_type": "execute_result"
    }
   ],
   "source": [
    "accuracy_score(digits.target, y_pred_semi_super)"
   ]
  },
  {
   "cell_type": "code",
   "execution_count": 19,
   "id": "85b1b7df",
   "metadata": {},
   "outputs": [
    {
     "data": {
      "text/plain": [
       "1.0"
      ]
     },
     "execution_count": 19,
     "metadata": {},
     "output_type": "execute_result"
    }
   ],
   "source": [
    "accuracy_score(digits.target, y_pred_super)"
   ]
  }
 ],
 "metadata": {
  "kernelspec": {
   "display_name": "Python 3 (ipykernel)",
   "language": "python",
   "name": "python3"
  },
  "language_info": {
   "codemirror_mode": {
    "name": "ipython",
    "version": 3
   },
   "file_extension": ".py",
   "mimetype": "text/x-python",
   "name": "python",
   "nbconvert_exporter": "python",
   "pygments_lexer": "ipython3",
   "version": "3.9.16"
  }
 },
 "nbformat": 4,
 "nbformat_minor": 5
}
