{
 "cells": [
  {
   "cell_type": "markdown",
   "id": "1ca3303c",
   "metadata": {},
   "source": [
    "# 군집을 이용한 이미지 픽셀 분할\n",
    "\n",
    "이미지 분할은 이미지의 픽셀을 비슷한 특성을 가진 여러 그룹으로 분류하는 과정입니다. 이를 위해 군집 알고리즘인 k-평균(K-means)이 널리 사용됩니다. k-평균 알고리즘은 각 픽셀의 색상 값을 벡터로 간주하고, 이를 기반으로 비슷한 색상의 픽셀을 같은 그룹으로 묶습니다."
   ]
  },
  {
   "cell_type": "markdown",
   "id": "6f73c9dd",
   "metadata": {},
   "source": [
    "먼저 원본 이미지 데이터를 재구성하여 각 픽셀을 RGB 색상 공간의 점으로 취급합니다. 그런 다음, 원본 이미지 데이터의 1/10을 무작위로 샘플링하여 대표성 있는 데이터 세트를 생성합니다."
   ]
  },
  {
   "cell_type": "markdown",
   "id": "66034a6f",
   "metadata": {},
   "source": [
    "각 픽셀에 대해 그 픽셀이 속한 클러스터의 중심값으로 픽셀 값을 설정함으로써 이미지를 재구성합니다.   \n",
    "이렇게 하면 색상이 비슷한 픽셀들이 같은 색상으로 묶이게 되어 이미지가 분할됩니다."
   ]
  }
 ],
 "metadata": {
  "kernelspec": {
   "display_name": "Python 3 (ipykernel)",
   "language": "python",
   "name": "python3"
  },
  "language_info": {
   "codemirror_mode": {
    "name": "ipython",
    "version": 3
   },
   "file_extension": ".py",
   "mimetype": "text/x-python",
   "name": "python",
   "nbconvert_exporter": "python",
   "pygments_lexer": "ipython3",
   "version": "3.9.7"
  }
 },
 "nbformat": 4,
 "nbformat_minor": 5
}
